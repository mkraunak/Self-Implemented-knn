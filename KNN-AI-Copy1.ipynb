{
 "cells": [
  {
   "cell_type": "code",
   "execution_count": 1,
   "metadata": {},
   "outputs": [
    {
     "name": "stdout",
     "output_type": "stream",
     "text": [
      "(36976, 194)\n",
      "0\n",
      "0\n",
      "(943,)\n"
     ]
    }
   ],
   "source": [
    "#Import of numpy array and matplotlib to plot the graph\n",
    "import numpy as np\n",
    "import pandas as pd\n",
    "import matplotlib.pyplot as plt\n",
    "\n",
    "import warnings\n",
    "warnings.filterwarnings('ignore')\n",
    "\n",
    "#importing file \n",
    "data_train = pd.read_table(\"train-data.txt\",delim_whitespace=True,header=None)\n",
    "data_test = pd.read_table(\"test-data.txt\",delim_whitespace=True,header=None)\n",
    "print(data_train.shape)\n",
    "\n",
    "# #checking for any missung values in the data frame\n",
    "# print((sum(data_train.isnull().sum())))\n",
    "# print((sum(data_test.isnull().sum())))\n",
    "\n",
    "#Created a separate dataframe for labels of training data \n",
    "train_data_label=data_train[1]\n",
    "\n",
    "\n",
    "#Converted the train labels from dataframe to array\n",
    "train_data_label=train_data_label.values\n",
    "\n",
    "#Dropping the columns of labels from train data\n",
    "data_train.drop(0,axis=1,inplace=True)\n",
    "data_train.drop(1,axis=1,inplace=True)\n",
    "\n",
    "\n",
    "#created a separate dataframe for labels in test data\n",
    "test_data_label=data_test[1]\n",
    "print(test_data_label.shape)\n",
    "\n",
    "#converted the test labels from dataframe to array\n",
    "test_data_label=test_data_label.values\n",
    "\n",
    "#Dropping the columns of lables from test data\n",
    "data_test.drop(0,axis=1,inplace=True)\n",
    "data_test.drop(1,axis=1,inplace=True)\n",
    "\n",
    "\n",
    "#converting train and test data without labels to array\n",
    "data_train=data_train.values\n",
    "data_test=data_test.values"
   ]
  },
  {
   "cell_type": "code",
   "execution_count": null,
   "metadata": {},
   "outputs": [],
   "source": []
  },
  {
   "cell_type": "code",
   "execution_count": 2,
   "metadata": {},
   "outputs": [],
   "source": [
    "# Function for Euclidean distance calculation\n",
    "\n",
    "def distance(x,y):   \n",
    "    return np.sqrt(np.sum((x-y)**2))\n",
    "        "
   ]
  },
  {
   "cell_type": "code",
   "execution_count": 3,
   "metadata": {},
   "outputs": [
    {
     "data": {
      "text/plain": [
       "[19484, 36800, 33048, 21660, 7564]"
      ]
     },
     "execution_count": 3,
     "metadata": {},
     "output_type": "execute_result"
    }
   ],
   "source": [
    "# function to find nearest neighbours\n",
    "import operator\n",
    "def knn(test_data,train_data,k):\n",
    "    dist=[]                        #dist- is a list which conatins neighbours(index) and its corresponding distances from the test data\n",
    "    length=len(train_data)\n",
    "    for j in range(length):\n",
    "        d=distance(train_data[j],test_data)\n",
    "        dist.append((j,d))\n",
    "    dist.sort(key=operator.itemgetter(1))\n",
    "    neighbours=[]\n",
    "    for x in range(k):\n",
    "        neighbours.append(dist[x][0])\n",
    "    return neighbours\n",
    "\n",
    "knn(data_test[0], data_train,5)\n",
    "    "
   ]
  },
  {
   "cell_type": "code",
   "execution_count": 4,
   "metadata": {},
   "outputs": [],
   "source": [
    "#function to find the mode of the labels of the nearest neighbours\n",
    "import statistics\n",
    "def find_max_mode(list_data):\n",
    "    list_table = statistics._counts(list_data)\n",
    "    len_table = len(list_table)\n",
    "\n",
    "    if len_table == 1:\n",
    "        max_mode = statistics.mode(list_data)\n",
    "    else:\n",
    "        new_list = []\n",
    "        for i in range(len_table):\n",
    "            new_list.append(list_table[i][0])\n",
    "        max_mode = max(new_list) \n",
    "    return max_mode"
   ]
  },
  {
   "cell_type": "code",
   "execution_count": 5,
   "metadata": {},
   "outputs": [],
   "source": [
    "#Function to find predictions of test data by K-NN model\n",
    "#k - Number of nearest neighbours \n",
    "#a - Input Train_data\n",
    "#b - Test data\n",
    "#train_label \n",
    "def prediction(a,b,train_label, k):\n",
    "    predictions = []\n",
    "    for i in range(len(b)):\n",
    "        neigh=knn(b[i],a,k)\n",
    "        n_labels = []                                    #n_labels is a list which contains labels of the predicted neighbours\n",
    "        n_labels = train_label[neigh]\n",
    "        predictions.append(find_max_mode(n_labels))\n",
    "        #print(find_max_mode(n_labels))    #voting on the correct orientation\n",
    "    return predictions\n",
    "        \n",
    "        "
   ]
  },
  {
   "cell_type": "code",
   "execution_count": 6,
   "metadata": {
    "scrolled": true
   },
   "outputs": [],
   "source": [
    "#Function to find Accuracy \n",
    "#Accuracy was found by comparing the predicted value by model and actual value on the test data\n",
    "def accuracy(predicted,actual):\n",
    "        count1=0\n",
    "        for i in range(len(predicted)):\n",
    "            if predicted[i]==actual[i]:\n",
    "                count1+=1\n",
    "            accuracy1=count1/len(predicted)\n",
    "        return(accuracy1)\n",
    "\n",
    "#acc=accuracy(predicted,test_data_label)\n",
    "#print(acc)"
   ]
  },
  {
   "cell_type": "code",
   "execution_count": 2,
   "metadata": {},
   "outputs": [
    {
     "data": {
      "image/png": "[encoded data removed]",
      "text/plain": [
       "<Figure size 432x288 with 1 Axes>"
      ]
     },
     "metadata": {
      "needs_background": "light"
     },
     "output_type": "display_data"
    }
   ],
   "source": [
    "import time\n",
    "k_value=[]  \n",
    "# time2=[]      \n",
    "# for k in range(5,42,4):\n",
    "#     starttime=time.time()\n",
    "#     predicted=prediction(data_train,data_test, train_data_label, k) \n",
    "#     totaltime=time.time()-starttime\n",
    "#     time2.append(totaltime)\n",
    "#     k_value.append(k)\n",
    "# print(k_value)\n",
    "# print(time2)\n",
    "Depth=[4,8,15,30]\n",
    "Accuracy=[0.5886,0.6591,0.6624,0.6626]\n",
    "import matplotlib.pyplot as plt\n",
    "plt.ylabel('Accuracy')\n",
    "plt.xlabel('Depth')\n",
    "plt.plot(Depth,Accuracy)\n",
    "plt.title(\"Depth vs Accuracy\")\n",
    "plt.show()"
   ]
  },
  {
   "cell_type": "code",
   "execution_count": 8,
   "metadata": {},
   "outputs": [
    {
     "name": "stdout",
     "output_type": "stream",
     "text": [
      "[0, 0, 180, 270, 0, 0, 0, 90, 90, 180]\n"
     ]
    }
   ],
   "source": [
    "p = prediction(data_train,data_test, train_data_label,41)\n",
    "print(p)"
   ]
  },
  {
   "cell_type": "code",
   "execution_count": 8,
   "metadata": {},
   "outputs": [
    {
     "name": "stdout",
     "output_type": "stream",
     "text": [
      "[  0 180 270   0  90   0  90  90 270]\n",
      "['test/10008707066.jpg', 'test/10099910984.jpg', 'test/10107730656.jpg', 'test/10161556064.jpg', 'test/10164298814.jpg', 'test/102461489.jpg', 'test/10304005245.jpg', 'test/10313218445.jpg', 'test/10353444674.jpg', 'test/10684428096.jpg', 'test/1074374765.jpg', 'test/10795283303.jpg', 'test/10814107565.jpg', 'test/10931472764.jpg']\n",
      "['test/10196604813.jpg', 'test/10351347465.jpg', 'test/10352491496.jpg', 'test/10484444553.jpg', 'test/10577249185.jpg', 'test/108172840.jpg']\n"
     ]
    }
   ],
   "source": [
    "#Plot graph for K(number of neraest neighbours) vs Accuracy \n",
    "print(test_data_label[1:10])\n",
    "labels=pd.read_csv(\"test-data.txt\",delim_whitespace=True,header=None).iloc[:,1]\n",
    "# k_val = []\n",
    "# acc = []\n",
    "# pred1=[]\n",
    "# Misclassified=[]\n",
    "# classified=[]\n",
    "# p = prediction(data_train,data_test, train_data_label,41)\n",
    "# for i in range(20):\n",
    "#     if p[i]==test_data_label[i]:\n",
    "#         classified.append(labels[i])\n",
    "#     else:\n",
    "#         Misclassified.append(labels[i])\n",
    "\n",
    "# print(classified)\n",
    "# print(Misclassified)"
   ]
  },
  {
   "cell_type": "code",
   "execution_count": 8,
   "metadata": {},
   "outputs": [
    {
     "name": "stdout",
     "output_type": "stream",
     "text": [
      "[2311, 6933, 11555, 16177, 20799, 25421, 30043, 34665]\n",
      "[0.6818663838812301, 0.6998939554612937, 0.7073170731707317, 0.6967126193001061, 0.6935312831389183, 0.6988335100742312, 0.6988335100742312, 0.711558854718982]\n",
      "[15.907667875289917, 48.200096130371094, 81.05984258651733, 114.3927230834961, 147.56714153289795, 180.90625643730164, 214.36259841918945, 247.00882172584534]\n"
     ]
    },
    {
     "data": {
      "image/png": "[encoded data removed]",
      "text/plain": [
       "<Figure size 432x288 with 1 Axes>"
      ]
     },
     "metadata": {
      "needs_background": "light"
     },
     "output_type": "display_data"
    }
   ],
   "source": [
    "\n",
    "# from mpl_toolkits.mplot3d import Axes3D\n",
    "# import time\n",
    "# #calculation of performance for different data set\n",
    "# pre=[]\n",
    "# acc1=[]\n",
    "# time1=[]\n",
    "# data=[]\n",
    "# for i in range(2311,(len(data_train))+1,4622):\n",
    "#     starttime=time.time()        \n",
    "#     predicted=prediction(data_train[:i,:],data_test, train_data_label, 41) \n",
    "#     pre.append(predicted)\n",
    "#     totaltime=time.time()-starttime\n",
    "#     time1.append(totaltime)\n",
    "#     acc=accuracy(predicted,test_data_label)\n",
    "#     acc1.append(acc)\n",
    "#     data.append(i)\n",
    "# print(data)\n",
    "# print(acc1)\n",
    "# print(time1)\n",
    "\n",
    "# #plot of performance of model \n",
    "\n",
    "# fig=plt.figure()\n",
    "# ax=fig.add_subplot(111,projection=\"3d\")\n",
    "\n",
    "# Axes3D.plot3D(ax,xs=data,ys=acc1,zs=time1,color=\"b\")\n",
    "# plt.title(\"data sets vs test accuracy vs time elapsed\")\n",
    "# plt.show()"
   ]
  }
 ],
 "metadata": {
  "kernelspec": {
   "display_name": "Python 3",
   "language": "python",
   "name": "python3"
  },
  "language_info": {
   "codemirror_mode": {
    "name": "ipython",
    "version": 3
   },
   "file_extension": ".py",
   "mimetype": "text/x-python",
   "name": "python",
   "nbconvert_exporter": "python",
   "pygments_lexer": "ipython3",
   "version": "3.6.8"
  }
 },
 "nbformat": 4,
 "nbformat_minor": 2
}
